{
 "cells": [
  {
   "cell_type": "markdown",
   "id": "ad9bcba7",
   "metadata": {},
   "source": [
    "## Purpose:\n",
    "Notebook to generate HDR file as environment for .inc files. Therefore, we can open the .inc files\n",
    "\n",
    "Needs:\n",
    "- `(.inc)` incidence angle image\n",
    "- `(.ann)` annotation file\n",
    "\n",
    "Data could be downloaded from \n",
    "- [UAVSAR](https://uavsar.jpl.nasa.gov/cgi-bin/data.pl)\n",
    "- [Alaska Satellite Facility](https://search.asf.alaska.edu/#/?dataset=UAVSAR)"
   ]
  },
  {
   "cell_type": "code",
   "execution_count": 2,
   "id": "a0129f3d-2b65-4470-b421-e219e4722bd6",
   "metadata": {},
   "outputs": [],
   "source": [
    "# Path to the python folder of UAVSAR-Radiometric-Calibration directory\n",
    "path_RC_python = 'D:/GitHub/uavsar-rtc-correction/python'\n",
    "import sys\n",
    "sys.path.append(path_RC_python)"
   ]
  },
  {
   "cell_type": "code",
   "execution_count": 33,
   "id": "70234c7c-9d60-4ffd-8db6-dacc9363e0c1",
   "metadata": {},
   "outputs": [],
   "source": [
    "from buildUAVSARhdr import genHDRfromTXT\n",
    "from pathlib import Path\n",
    "import os\n",
    "import glob"
   ]
  },
  {
   "cell_type": "code",
   "execution_count": 34,
   "id": "bbda742d-4259-435c-8772-d5f23a2a2503",
   "metadata": {},
   "outputs": [
    {
     "name": "stdout",
     "output_type": "stream",
     "text": [
      "['D:/Work/Data/UAVSAR/LOPE/eighty_14047_16015_006_160308_L090_CX_01']\n"
     ]
    }
   ],
   "source": [
    "data_folder = 'D:/Work/Data/UAVSAR/LOPE/'\n",
    "\n",
    "root, dirs, files = next(os.walk(data_folder, topdown=True))\n",
    "if not root:\n",
    "    dirs = root\n",
    "else:\n",
    "    dirs = [ os.path.join(root, d) for d in dirs ]\n",
    "\n",
    "print(dirs)"
   ]
  },
  {
   "cell_type": "code",
   "execution_count": 40,
   "id": "343d2ef3-0fa1-4a70-adf7-18ede77b12c3",
   "metadata": {},
   "outputs": [],
   "source": [
    "inc = []\n",
    "ann = []\n",
    "for d in dirs:\n",
    "    inc.append(glob.glob(os.path.join(d, '*.inc'))[0])\n",
    "    ann.append(glob.glob(os.path.join(d, '*.ann'))[0])"
   ]
  },
  {
   "cell_type": "code",
   "execution_count": 41,
   "id": "2c1bbb4d-53c2-45c6-8395-e6d3a839c14d",
   "metadata": {},
   "outputs": [
    {
     "data": {
      "text/plain": [
       "['D:/Work/Data/UAVSAR/LOPE/eighty_14047_16015_006_160308_L090_CX_01\\\\eighty_14047_16015_006_160308_L090_CX_01.inc']"
      ]
     },
     "execution_count": 41,
     "metadata": {},
     "output_type": "execute_result"
    }
   ],
   "source": [
    "inc"
   ]
  },
  {
   "cell_type": "code",
   "execution_count": 42,
   "id": "719395f0-0c27-46c3-8ffc-0ec951d4e259",
   "metadata": {},
   "outputs": [
    {
     "data": {
      "text/plain": [
       "['D:/Work/Data/UAVSAR/LOPE/eighty_14047_16015_006_160308_L090_CX_01\\\\eighty_14047_16015_006_160308_L090_CX_01.ann']"
      ]
     },
     "execution_count": 42,
     "metadata": {},
     "output_type": "execute_result"
    }
   ],
   "source": [
    "ann"
   ]
  },
  {
   "cell_type": "code",
   "execution_count": 43,
   "id": "cdc4d0ea-a7d9-43bd-afde-0578341167b2",
   "metadata": {},
   "outputs": [],
   "source": [
    "# could be any\n",
    "pol = \"HVHV\""
   ]
  },
  {
   "cell_type": "code",
   "execution_count": 44,
   "id": "d8a10f39-a856-486d-b11e-edbf1f9c9ea8",
   "metadata": {},
   "outputs": [
    {
     "name": "stdout",
     "output_type": "stream",
     "text": [
      "SAMPLES = 8913\n",
      "LINES = 8192\n",
      "UPPER LEFT LAT = 0.10006356\n",
      "UPPER LEFT LONG = 11.4039678\n",
      "PIXEL LAT SIZE = 5.556e-05\n",
      "PIXEL LONG SIZE = 5.556e-05\n",
      "DATATYPE = 4\n",
      "Writing output HDR file...\n",
      "Output HDR file = D:/Work/Data/UAVSAR/LOPE/eighty_14047_16015_006_160308_L090_CX_01\\eighty_14047_16015_006_160308_L090_CX_01.inc.hdr\n",
      "\n",
      "Thank you for using UAVSAR.py\n",
      "\n"
     ]
    }
   ],
   "source": [
    "for i in range(len(ann)):\n",
    "    genHDRfromTXT(str(ann[i]), str(inc[i]), pol)"
   ]
  },
  {
   "cell_type": "code",
   "execution_count": null,
   "id": "6a1ca516-4971-40c8-bf52-4b140c99463d",
   "metadata": {},
   "outputs": [],
   "source": []
  }
 ],
 "metadata": {
  "kernelspec": {
   "display_name": "Python 3 (ipykernel)",
   "language": "python",
   "name": "python3"
  },
  "language_info": {
   "codemirror_mode": {
    "name": "ipython",
    "version": 3
   },
   "file_extension": ".py",
   "mimetype": "text/x-python",
   "name": "python",
   "nbconvert_exporter": "python",
   "pygments_lexer": "ipython3",
   "version": "3.9.18"
  }
 },
 "nbformat": 4,
 "nbformat_minor": 5
}
