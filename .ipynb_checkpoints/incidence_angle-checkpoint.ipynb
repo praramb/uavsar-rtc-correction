{
 "cells": [
  {
   "cell_type": "markdown",
   "id": "ad9bcba7",
   "metadata": {},
   "source": [
    "## Purpose:\n",
    "Notebook to generate HDR file as environment for .inc files. Therefore, we can open the .inc files\n",
    "\n",
    "Needs:\n",
    "- `(.inc)` incidence angle image\n",
    "- `(.ann)` annotation file\n",
    "\n",
    "Data could be downloaded from \n",
    "- [UAVSAR](https://uavsar.jpl.nasa.gov/cgi-bin/data.pl)\n",
    "- [Alaska Satellite Facility](https://search.asf.alaska.edu/#/?dataset=UAVSAR)"
   ]
  },
  {
   "cell_type": "code",
   "execution_count": 2,
   "id": "a0129f3d-2b65-4470-b421-e219e4722bd6",
   "metadata": {},
   "outputs": [],
   "source": [
    "# Path to the python folder of UAVSAR-Radiometric-Calibration directory\n",
    "path_RC_python = 'D:/GitHub/uavsar-rtc-correction/python'\n",
    "import sys\n",
    "sys.path.append(path_RC_python)"
   ]
  },
  {
   "cell_type": "code",
   "execution_count": 33,
   "id": "70234c7c-9d60-4ffd-8db6-dacc9363e0c1",
   "metadata": {},
   "outputs": [],
   "source": [
    "from buildUAVSARhdr import genHDRfromTXT\n",
    "from pathlib import Path\n",
    "import os\n",
    "import glob"
   ]
  },
  {
   "cell_type": "code",
   "execution_count": 34,
   "id": "bbda742d-4259-435c-8772-d5f23a2a2503",
   "metadata": {},
   "outputs": [
    {
     "name": "stdout",
     "output_type": "stream",
     "text": [
      "['D:/Work/Data/UAVSAR/LOPE/eighty_14047_16015_006_160308_L090_CX_01']\n"
     ]
    }
   ],
   "source": [
    "data_folder = 'D:/Work/Data/UAVSAR/LOPE/'\n",
    "\n",
    "root, dirs, files = next(os.walk(data_folder, topdown=True))\n",
    "if not root:\n",
    "    dirs = root\n",
    "else:\n",
    "    dirs = [ os.path.join(root, d) for d in dirs ]\n",
    "\n",
    "print(dirs)"
   ]
  },
  {
   "cell_type": "code",
   "execution_count": 37,
   "id": "343d2ef3-0fa1-4a70-adf7-18ede77b12c3",
   "metadata": {},
   "outputs": [
    {
     "name": "stdout",
     "output_type": "stream",
     "text": [
      "['D:/Work/Data/UAVSAR/LOPE/eighty_14047_16015_006_160308_L090_CX_01\\\\eighty_14047_16015_006_160308_L090_CX_01.inc']\n"
     ]
    },
    {
     "ename": "TypeError",
     "evalue": "can only concatenate str (not \"list\") to str",
     "output_type": "error",
     "traceback": [
      "\u001b[1;31m---------------------------------------------------------------------------\u001b[0m",
      "\u001b[1;31mTypeError\u001b[0m                                 Traceback (most recent call last)",
      "Cell \u001b[1;32mIn[37], line 6\u001b[0m\n\u001b[0;32m      4\u001b[0m \u001b[38;5;28mprint\u001b[39m(glob\u001b[38;5;241m.\u001b[39mglob(os\u001b[38;5;241m.\u001b[39mpath\u001b[38;5;241m.\u001b[39mjoin(d, \u001b[38;5;124m'\u001b[39m\u001b[38;5;124m*.inc\u001b[39m\u001b[38;5;124m'\u001b[39m)))\n\u001b[0;32m      5\u001b[0m \u001b[38;5;66;03m#inc.append(d + )\u001b[39;00m\n\u001b[1;32m----> 6\u001b[0m ann\u001b[38;5;241m.\u001b[39mappend(\u001b[43md\u001b[49m\u001b[43m \u001b[49m\u001b[38;5;241;43m+\u001b[39;49m\u001b[43m \u001b[49m\u001b[43mglob\u001b[49m\u001b[38;5;241;43m.\u001b[39;49m\u001b[43mglob\u001b[49m\u001b[43m(\u001b[49m\u001b[43mos\u001b[49m\u001b[38;5;241;43m.\u001b[39;49m\u001b[43mpath\u001b[49m\u001b[38;5;241;43m.\u001b[39;49m\u001b[43mjoin\u001b[49m\u001b[43m(\u001b[49m\u001b[43md\u001b[49m\u001b[43m,\u001b[49m\u001b[43m \u001b[49m\u001b[38;5;124;43m'\u001b[39;49m\u001b[38;5;124;43m*.ann\u001b[39;49m\u001b[38;5;124;43m'\u001b[39;49m\u001b[43m)\u001b[49m\u001b[43m)\u001b[49m)\n",
      "\u001b[1;31mTypeError\u001b[0m: can only concatenate str (not \"list\") to str"
     ]
    }
   ],
   "source": [
    "inc = []\n",
    "ann = []\n",
    "for d in dirs:\n",
    "    inc.append(glob.glob(os.path.join(d, '*.inc')))\n",
    "    ann.append(glob.glob(os.path.join(d, '*.ann')))"
   ]
  },
  {
   "cell_type": "code",
   "execution_count": 29,
   "id": "2c1bbb4d-53c2-45c6-8395-e6d3a839c14d",
   "metadata": {},
   "outputs": [
    {
     "data": {
      "text/plain": [
       "['D:/Work/Data/UAVSAR/LOPE/eighty_14047_16015_006_160308_L090_CX_01.inc']"
      ]
     },
     "execution_count": 29,
     "metadata": {},
     "output_type": "execute_result"
    }
   ],
   "source": [
    "inc"
   ]
  },
  {
   "cell_type": "code",
   "execution_count": 19,
   "id": "719395f0-0c27-46c3-8ffc-0ec951d4e259",
   "metadata": {},
   "outputs": [
    {
     "data": {
      "text/plain": [
       "['D:/Work/Data/UAVSAR/LOPE/eighty_14047_16015_006_160308_L090_CX_01.ann']"
      ]
     },
     "execution_count": 19,
     "metadata": {},
     "output_type": "execute_result"
    }
   ],
   "source": [
    "ann"
   ]
  },
  {
   "cell_type": "code",
   "execution_count": 20,
   "id": "cdc4d0ea-a7d9-43bd-afde-0578341167b2",
   "metadata": {},
   "outputs": [],
   "source": [
    "# could be any\n",
    "pol = \"HVHV\""
   ]
  },
  {
   "cell_type": "code",
   "execution_count": 21,
   "id": "d8a10f39-a856-486d-b11e-edbf1f9c9ea8",
   "metadata": {},
   "outputs": [
    {
     "ename": "FileNotFoundError",
     "evalue": "[Errno 2] No such file or directory: 'D:/Work/Data/UAVSAR/LOPE/eighty_14047_16015_006_160308_L090_CX_01.ann'",
     "output_type": "error",
     "traceback": [
      "\u001b[1;31m---------------------------------------------------------------------------\u001b[0m",
      "\u001b[1;31mFileNotFoundError\u001b[0m                         Traceback (most recent call last)",
      "Cell \u001b[1;32mIn[21], line 2\u001b[0m\n\u001b[0;32m      1\u001b[0m \u001b[38;5;28;01mfor\u001b[39;00m i \u001b[38;5;129;01min\u001b[39;00m \u001b[38;5;28mrange\u001b[39m(\u001b[38;5;28mlen\u001b[39m(ann)):\n\u001b[1;32m----> 2\u001b[0m     \u001b[43mgenHDRfromTXT\u001b[49m\u001b[43m(\u001b[49m\u001b[38;5;28;43mstr\u001b[39;49m\u001b[43m(\u001b[49m\u001b[43mann\u001b[49m\u001b[43m[\u001b[49m\u001b[43mi\u001b[49m\u001b[43m]\u001b[49m\u001b[43m)\u001b[49m\u001b[43m,\u001b[49m\u001b[43m \u001b[49m\u001b[38;5;28;43mstr\u001b[39;49m\u001b[43m(\u001b[49m\u001b[43minc\u001b[49m\u001b[43m[\u001b[49m\u001b[43mi\u001b[49m\u001b[43m]\u001b[49m\u001b[43m)\u001b[49m\u001b[43m,\u001b[49m\u001b[43m \u001b[49m\u001b[43mpol\u001b[49m\u001b[43m)\u001b[49m\n",
      "File \u001b[1;32mD:\\GitHub/uavsar-rtc-correction/python\\buildUAVSARhdr.py:28\u001b[0m, in \u001b[0;36mgenHDRfromTXT\u001b[1;34m(annFile, dataFile, pol)\u001b[0m\n\u001b[0;32m     25\u001b[0m headerPar[\u001b[38;5;124m'\u001b[39m\u001b[38;5;124mfileBaseName\u001b[39m\u001b[38;5;124m'\u001b[39m] \u001b[38;5;241m=\u001b[39m fileBaseName\n\u001b[0;32m     27\u001b[0m \u001b[38;5;66;03m# Open the annotation file and read its contents\u001b[39;00m\n\u001b[1;32m---> 28\u001b[0m \u001b[38;5;28;01mwith\u001b[39;00m \u001b[38;5;28;43mopen\u001b[39;49m\u001b[43m(\u001b[49m\u001b[43mannFile\u001b[49m\u001b[43m,\u001b[49m\u001b[43m \u001b[49m\u001b[38;5;124;43m'\u001b[39;49m\u001b[38;5;124;43mr\u001b[39;49m\u001b[38;5;124;43m'\u001b[39;49m\u001b[43m)\u001b[49m \u001b[38;5;28;01mas\u001b[39;00m hdrFile:\n\u001b[0;32m     29\u001b[0m     \u001b[38;5;28;01mfor\u001b[39;00m line \u001b[38;5;129;01min\u001b[39;00m hdrFile:\n\u001b[0;32m     30\u001b[0m         \u001b[38;5;66;03m# Extract and store the upper left latitude coordinate\u001b[39;00m\n\u001b[0;32m     31\u001b[0m         \u001b[38;5;28;01mif\u001b[39;00m \u001b[38;5;124m'\u001b[39m\u001b[38;5;124mgrd_mag.row_addr\u001b[39m\u001b[38;5;124m'\u001b[39m \u001b[38;5;129;01min\u001b[39;00m line:\n",
      "\u001b[1;31mFileNotFoundError\u001b[0m: [Errno 2] No such file or directory: 'D:/Work/Data/UAVSAR/LOPE/eighty_14047_16015_006_160308_L090_CX_01.ann'"
     ]
    }
   ],
   "source": [
    "for i in range(len(ann)):\n",
    "    genHDRfromTXT(str(ann[i]), str(inc[i]), pol)"
   ]
  },
  {
   "cell_type": "code",
   "execution_count": null,
   "id": "6a1ca516-4971-40c8-bf52-4b140c99463d",
   "metadata": {},
   "outputs": [],
   "source": []
  }
 ],
 "metadata": {
  "kernelspec": {
   "display_name": "Python 3 (ipykernel)",
   "language": "python",
   "name": "python3"
  },
  "language_info": {
   "codemirror_mode": {
    "name": "ipython",
    "version": 3
   },
   "file_extension": ".py",
   "mimetype": "text/x-python",
   "name": "python",
   "nbconvert_exporter": "python",
   "pygments_lexer": "ipython3",
   "version": "3.9.18"
  }
 },
 "nbformat": 4,
 "nbformat_minor": 5
}
