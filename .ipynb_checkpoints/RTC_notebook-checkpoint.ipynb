{
 "cells": [
  {
   "cell_type": "markdown",
   "metadata": {},
   "source": [
    "## Purpose:\n",
    "Notebook to perform radiometric terrain correction on UAVSAR data.\n",
    "\n",
    "Needs:\n",
    "- `(.mlc)` multi look cross product slant range image\n",
    "- `(.hgt)` digital elevation model (DEM) used during processing and ground projection\n",
    "- `(.ann)` annotation file\n",
    "\n",
    "Data could be downloaded from \n",
    "- [UAVSAR](https://uavsar.jpl.nasa.gov/cgi-bin/data.pl)\n",
    "- [Alaska Satellite Facility](https://search.asf.alaska.edu/#/?dataset=UAVSAR)\n",
    "\n",
    "The data used in the sample below is from the flight 'SanAnd_08525_14158_003_141023' and 'SanAnd_08525_17122_003_171102', corresponding to pre- and post- fire image for the La Tuna Fire (2017)"
   ]
  },
  {
   "cell_type": "markdown",
   "metadata": {},
   "source": [
    "Change `path_RC_python` before running the notebook"
   ]
  },
  {
   "cell_type": "code",
   "execution_count": 4,
   "metadata": {},
   "outputs": [],
   "source": [
    "# Path to the python folder of UAVSAR-Radiometric-Calibration directory\n",
    "path_RC_python = 'D:/GitHub/uavsar-rtc-correction/python'"
   ]
  },
  {
   "cell_type": "code",
   "execution_count": 5,
   "metadata": {},
   "outputs": [],
   "source": [
    "import sys\n",
    "sys.path.append(path_RC_python)\n",
    "from radiocal import batchcal\n",
    "import radiocal\n",
    "import os\n",
    "from pathlib import Path"
   ]
  },
  {
   "cell_type": "code",
   "execution_count": 6,
   "metadata": {},
   "outputs": [],
   "source": [
    "# Path to the folder containing the radiometric calibration programs\n",
    "# (e.g., uavsar_calib_veg_v2 and geocode_uavsar)\n",
    "programpath = 'D:/GitHub/uavsar-rtc-correction/bin/'\n",
    "programpath = os.path.abspath(programpath)\n",
    "\n",
    "# Calibration program:\n",
    "calibprog = programpath+'/uavsar_calib'\n",
    "\n",
    "# Geocoding program:\n",
    "geocodeprog = programpath+'/uavsar_geocode'"
   ]
  },
  {
   "cell_type": "code",
   "execution_count": 8,
   "metadata": {},
   "outputs": [],
   "source": [
    "def rtc(dir,root_name, pol):\n",
    "\n",
    "    # stores working directory\n",
    "    current_working_directory = os.getcwd()\n",
    "    #current_working_directory = dir\n",
    "\n",
    "    # apply RTC\n",
    "    sardata = [root_name]\n",
    "    print(sardata)##\n",
    "    for num in range(0,len(sardata)):\n",
    "        print(num)\n",
    "        print(dir)\n",
    "        radiocal.batchcal(dir,\n",
    "                          programpath,\n",
    "                          calibprog,\n",
    "                          geocodeprog,\n",
    "                          None,\n",
    "                          calname='rtc', # change calname if a different ending name is wanted  \n",
    "                          docorrectionflag=True, \n",
    "                          zerodemflag=False,\n",
    "                          createmaskflag=False, \n",
    "                          createlookflag=True, \n",
    "                          createslopeflag=True, # Changed\n",
    "                          overwriteflag=True, \n",
    "                          postprocessflag=False, \n",
    "                          pol=pol, \n",
    "                          scene=sardata[num])\n",
    "        \n",
    "    # change back working directory \n",
    "    os.chdir(current_working_directory)"
   ]
  },
  {
   "cell_type": "markdown",
   "metadata": {},
   "source": [
    "### Change the following variables before each run:\n",
    "- `pol` : polarizations to correct\n",
    "- `data_path`\n",
    "- `root_name`"
   ]
  },
  {
   "cell_type": "code",
   "execution_count": 21,
   "metadata": {},
   "outputs": [
    {
     "name": "stdout",
     "output_type": "stream",
     "text": [
      "['D:/Work/Data/UAVSAR/LOPE/eighty_14047_16015_006_160308_L090_CX_01']\n"
     ]
    }
   ],
   "source": [
    "# 0-HHHH, 1-VVVV, 2-HVHV; ex: [0,2] for HHHH,HVHV \n",
    "pol = [0,1,2] \n",
    "\n",
    "# Path to data folders.\n",
    "# Each folder should contain the .mlc, .hgt, and .ann files associated with the flight\n",
    "##data_folder = '/mnt/karenan/uavsar_slumps/grd_folders/'\n",
    "data_folder = 'D:/Work/Data/UAVSAR/LOPE/'\n",
    "\n",
    "root, dirs, files = next(os.walk(data_folder, topdown=True))\n",
    "if not root:\n",
    "    dirs = root\n",
    "else:\n",
    "    dirs = [ os.path.join(root, d) for d in dirs ]\n",
    "\n",
    "\n",
    "print(dirs)\n",
    "# # Path to the UAVSAR data files (one UAVSAR flight at a time)\n",
    "# data_path = '/mnt/karenan/uavsar_slumps/grd_folders/mcpher_05529_18053_005_180829_L090_CX_01_grd'\n",
    "# datapath = os.path.abspath(data_path)\n",
    "\n",
    "# # Root names for the UAVSAR data\n",
    "# root_name = 'mcpher_05529_18053_005_180829'"
   ]
  },
  {
   "cell_type": "code",
   "execution_count": 22,
   "metadata": {},
   "outputs": [
    {
     "name": "stdout",
     "output_type": "stream",
     "text": [
      "[]\n"
     ]
    }
   ],
   "source": [
    "print(files)"
   ]
  },
  {
   "cell_type": "code",
   "execution_count": 23,
   "metadata": {},
   "outputs": [],
   "source": [
    "# # Previous cell contain information for the pre-fire image. Now repeat for the post-fire image. \n",
    "# data_path = 'la_tuna/la_tuna_1'\n",
    "# datapath = os.path.abspath(data_path)\n",
    "\n",
    "# root_name = 'SanAnd_08525_17122_003_171102'"
   ]
  },
  {
   "cell_type": "markdown",
   "metadata": {},
   "source": [
    "### Run the following after changing the variables above"
   ]
  },
  {
   "cell_type": "code",
   "execution_count": 24,
   "metadata": {},
   "outputs": [
    {
     "name": "stdout",
     "output_type": "stream",
     "text": [
      "D:/Work/Data/UAVSAR/LOPE/eighty_14047_16015_006_160308_L090_CX_01\n",
      "['eighty_14047_16015_006_160308']\n",
      "0\n",
      "D:/Work/Data/UAVSAR/LOPE/eighty_14047_16015_006_160308_L090_CX_01\n",
      "eighty_14047_16015_006_160308_L090_CX_01.ann\n",
      "'D:\\GitHub\\uavsar-rtc-correction\\bin/uavsar_calib' is not recognized as an internal or external command,\n",
      "operable program or batch file.\n",
      "'D:\\GitHub\\uavsar-rtc-correction\\bin/uavsar_geocode' is not recognized as an internal or external command,\n",
      "operable program or batch file.\n",
      "SAMPLES = 8913\n",
      "LINES = 8192\n",
      "UPPER LEFT LAT = 0.10006356\n",
      "UPPER LEFT LONG = 11.4039678\n",
      "PIXEL LAT SIZE = 5.556e-05\n",
      "PIXEL LONG SIZE = 5.556e-05\n",
      "DATATYPE = 4\n",
      "Writing output HDR file...\n",
      "Output HDR file = eighty_14047_16015_006_160308_HHHH_rtc.grd.hdr\n",
      "\n",
      "Thank you for using UAVSAR.py\n",
      "\n",
      "'D:\\GitHub\\uavsar-rtc-correction\\bin/uavsar_calib' is not recognized as an internal or external command,\n",
      "operable program or batch file.\n",
      "'D:\\GitHub\\uavsar-rtc-correction\\bin/uavsar_geocode' is not recognized as an internal or external command,\n",
      "operable program or batch file.\n",
      "SAMPLES = 8913\n",
      "LINES = 8192\n",
      "UPPER LEFT LAT = 0.10006356\n",
      "UPPER LEFT LONG = 11.4039678\n",
      "PIXEL LAT SIZE = 5.556e-05\n",
      "PIXEL LONG SIZE = 5.556e-05\n",
      "DATATYPE = 4\n",
      "Writing output HDR file...\n",
      "Output HDR file = eighty_14047_16015_006_160308_VVVV_rtc.grd.hdr\n",
      "\n",
      "Thank you for using UAVSAR.py\n",
      "\n",
      "'D:\\GitHub\\uavsar-rtc-correction\\bin/uavsar_calib' is not recognized as an internal or external command,\n",
      "operable program or batch file.\n",
      "'D:\\GitHub\\uavsar-rtc-correction\\bin/uavsar_geocode' is not recognized as an internal or external command,\n",
      "operable program or batch file.\n",
      "SAMPLES = 8913\n",
      "LINES = 8192\n",
      "UPPER LEFT LAT = 0.10006356\n",
      "UPPER LEFT LONG = 11.4039678\n",
      "PIXEL LAT SIZE = 5.556e-05\n",
      "PIXEL LONG SIZE = 5.556e-05\n",
      "DATATYPE = 4\n",
      "Writing output HDR file...\n",
      "Output HDR file = eighty_14047_16015_006_160308_HVHV_rtc.grd.hdr\n",
      "\n",
      "Thank you for using UAVSAR.py\n",
      "\n",
      "'mv' is not recognized as an internal or external command,\n",
      "operable program or batch file.\n",
      "SAMPLES = 8913\n",
      "LINES = 8192\n",
      "UPPER LEFT LAT = 0.10006356\n",
      "UPPER LEFT LONG = 11.4039678\n",
      "PIXEL LAT SIZE = 5.556e-05\n",
      "PIXEL LONG SIZE = 5.556e-05\n",
      "DATATYPE = 4\n",
      "Writing output HDR file...\n",
      "Output HDR file = eighty_14047_16015_006_160308_slope.grd.hdr\n",
      "\n",
      "Thank you for using UAVSAR.py\n",
      "\n",
      "'mv' is not recognized as an internal or external command,\n",
      "operable program or batch file.\n",
      "SAMPLES = 8913\n",
      "LINES = 8192\n",
      "UPPER LEFT LAT = 0.10006356\n",
      "UPPER LEFT LONG = 11.4039678\n",
      "PIXEL LAT SIZE = 5.556e-05\n",
      "PIXEL LONG SIZE = 5.556e-05\n",
      "DATATYPE = 4\n",
      "Writing output HDR file...\n",
      "Output HDR file = eighty_14047_16015_006_160308_look.grd.hdr\n",
      "\n",
      "Thank you for using UAVSAR.py\n",
      "\n",
      "All folders have completed RTC.\n"
     ]
    }
   ],
   "source": [
    "for d in dirs:\n",
    "    print(d)\n",
    "    split_path = os.path.split(d)\n",
    "    root_name = split_path[1].split('_L090')[0]\n",
    "    rtc(d, root_name, pol)\n",
    "\n",
    "print (\"All folders have completed RTC.\")"
   ]
  },
  {
   "cell_type": "code",
   "execution_count": null,
   "metadata": {},
   "outputs": [],
   "source": []
  }
 ],
 "metadata": {
  "kernelspec": {
   "display_name": "Python 3 (ipykernel)",
   "language": "python",
   "name": "python3"
  },
  "language_info": {
   "codemirror_mode": {
    "name": "ipython",
    "version": 3
   },
   "file_extension": ".py",
   "mimetype": "text/x-python",
   "name": "python",
   "nbconvert_exporter": "python",
   "pygments_lexer": "ipython3",
   "version": "3.9.18"
  }
 },
 "nbformat": 4,
 "nbformat_minor": 4
}
